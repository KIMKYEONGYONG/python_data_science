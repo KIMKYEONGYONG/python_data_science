{
 "cells": [
  {
   "cell_type": "code",
   "execution_count": 1,
   "id": "6a83ee93",
   "metadata": {},
   "outputs": [],
   "source": [
    "import numpy as np"
   ]
  },
  {
   "cell_type": "markdown",
   "id": "a4a8e493",
   "metadata": {},
   "source": [
    "# Section 1. N차원 배열 생성"
   ]
  },
  {
   "cell_type": "markdown",
   "id": "27932a10",
   "metadata": {},
   "source": [
    "## 1-1. N차원 배열(ndarray) 생성하기"
   ]
  },
  {
   "cell_type": "code",
   "execution_count": 6,
   "id": "291275bc",
   "metadata": {},
   "outputs": [
    {
     "name": "stdout",
     "output_type": "stream",
     "text": [
      "[1 2 3]\n",
      "[[1 2 3]\n",
      " [4 5 6]]\n"
     ]
    }
   ],
   "source": [
    "# 1차원 배열\n",
    "arr = np.array([1,2,3])\n",
    "print(arr)\n",
    "\n",
    "# 2차원 배열\n",
    "arr_2 = np.array([[1,2,3]\n",
    "                ,[4,5,6]])\n",
    "print(arr_2)"
   ]
  },
  {
   "cell_type": "code",
   "execution_count": 7,
   "id": "9eaa42ce",
   "metadata": {},
   "outputs": [
    {
     "data": {
      "text/plain": [
       "numpy.ndarray"
      ]
     },
     "execution_count": 7,
     "metadata": {},
     "output_type": "execute_result"
    }
   ],
   "source": [
    "type([1,2,3])\n",
    "type(arr)"
   ]
  },
  {
   "cell_type": "code",
   "execution_count": 8,
   "id": "4f8a2169",
   "metadata": {},
   "outputs": [
    {
     "name": "stdout",
     "output_type": "stream",
     "text": [
      "[4 5 6]\n",
      "[1 2 3]\n",
      "[[1 2 3]\n",
      " [4 5 6]]\n"
     ]
    }
   ],
   "source": [
    "tp1 = (4,5,6)\n",
    "arr = np.array(tp1)\n",
    "print(arr)\n",
    "\n",
    "lst = [1,2,3]\n",
    "arr = np.array(lst)\n",
    "print(arr)\n",
    "\n",
    "lst2 = [[1,2,3],[4,5,6]]\n",
    "arr = np.array(lst2)\n",
    "print(arr)"
   ]
  },
  {
   "cell_type": "code",
   "execution_count": 10,
   "id": "45bb236b",
   "metadata": {},
   "outputs": [
    {
     "name": "stdout",
     "output_type": "stream",
     "text": [
      "(3,) (2, 3)\n",
      "1 2\n",
      "3 6\n"
     ]
    }
   ],
   "source": [
    "#shape\n",
    "arr1 = np.array([1,2,3])\n",
    "arr2 = np.array([[1,2,3],[4,5,6]])\n",
    "\n",
    "print(arr1.shape, arr2.shape)\n",
    "\n",
    "# ndim\n",
    "print(arr1.ndim, arr2.ndim)\n",
    "\n",
    "# size\n",
    "print(arr1.size, arr2.size)"
   ]
  },
  {
   "cell_type": "markdown",
   "id": "523feeae",
   "metadata": {},
   "source": [
    "## 1-2. N차원 배열의 데이터 타입"
   ]
  },
  {
   "cell_type": "code",
   "execution_count": 14,
   "id": "7b961782",
   "metadata": {},
   "outputs": [
    {
     "name": "stdout",
     "output_type": "stream",
     "text": [
      "[1. 2. 3.] float64\n"
     ]
    }
   ],
   "source": [
    "arr = np.array([1,2,3],dtype=np.float64)\n",
    "print(arr, arr.dtype)"
   ]
  },
  {
   "cell_type": "code",
   "execution_count": 16,
   "id": "3b45db5a",
   "metadata": {},
   "outputs": [
    {
     "name": "stdout",
     "output_type": "stream",
     "text": [
      "[False  True  True] bool\n"
     ]
    }
   ],
   "source": [
    "arr = np.array([0,1,1],dtype=np.bool_)\n",
    "print(arr, arr.dtype)"
   ]
  },
  {
   "cell_type": "code",
   "execution_count": 17,
   "id": "1b3c3d35",
   "metadata": {},
   "outputs": [
    {
     "name": "stdout",
     "output_type": "stream",
     "text": [
      "[1 2 3] int32\n",
      "[1. 2. 3.] float32\n"
     ]
    }
   ],
   "source": [
    "arr = np.array([1,2,3])\n",
    "print(arr, arr.dtype)\n",
    "\n",
    "arr = arr.astype(np.float32)\n",
    "print(arr, arr.dtype)"
   ]
  },
  {
   "cell_type": "code",
   "execution_count": 25,
   "id": "109e0c80",
   "metadata": {},
   "outputs": [
    {
     "name": "stdout",
     "output_type": "stream",
     "text": [
      "['1' '2' '3.4' '65'] <U32\n",
      "[ 1  2  3 65] int32\n",
      "['1' '2' '3.4' '문A'] <U32\n"
     ]
    }
   ],
   "source": [
    "# 데이터 타입이 혼재하는 경우\n",
    "arr = np.array([1,2,3.4,\"65\"])\n",
    "print(arr, arr.dtype)\n",
    "\n",
    "arr = np.array([1,2,3.4,\"65\"],dtype=int)\n",
    "print(arr, arr.dtype)\n",
    "\n",
    "arr2 = np.array([1,2,3.4,\"문A\"])\n",
    "print(arr2, arr2.dtype)"
   ]
  },
  {
   "cell_type": "markdown",
   "id": "35bdf0d7",
   "metadata": {},
   "source": [
    "## 정해진 형식의 N차원 배열 생성하기"
   ]
  },
  {
   "cell_type": "code",
   "execution_count": 33,
   "id": "5afd06a9",
   "metadata": {},
   "outputs": [
    {
     "name": "stdout",
     "output_type": "stream",
     "text": [
      "[[0. 0.]\n",
      " [0. 0.]]\n",
      "[[1. 1. 1. 1. 1.]\n",
      " [1. 1. 1. 1. 1.]\n",
      " [1. 1. 1. 1. 1.]]\n",
      "[[5 5 5]\n",
      " [5 5 5]]\n",
      "[[1. 0. 0. 0.]\n",
      " [0. 1. 0. 0.]\n",
      " [0. 0. 1. 0.]]\n",
      "[[1. 0. 0.]\n",
      " [0. 1. 0.]\n",
      " [0. 0. 1.]]\n"
     ]
    }
   ],
   "source": [
    "# np.zeros()\n",
    "arr = np.zeros([2,2])\n",
    "print(arr)\n",
    "\n",
    "# np.ones()\n",
    "arr = np.ones([3,5])\n",
    "print(arr)\n",
    "\n",
    "# np.full()\n",
    "arr = np.full([2,3],5)\n",
    "print(arr)\n",
    "\n",
    "# np.eye()\n",
    "arr = np.eye(3,4, k=0)\n",
    "print(arr)\n",
    "\n",
    "arr = np.eye(3) #정방행렬의 단위행렬\n",
    "print(arr)"
   ]
  },
  {
   "cell_type": "code",
   "execution_count": 34,
   "id": "73814064",
   "metadata": {},
   "outputs": [
    {
     "name": "stdout",
     "output_type": "stream",
     "text": [
      "[[0 0 0]\n",
      " [0 0 0]]\n",
      "[[1 1 1]\n",
      " [1 1 1]]\n",
      "[[9 9 9]\n",
      " [9 9 9]]\n"
     ]
    }
   ],
   "source": [
    "arr = np.array([[1,2,3]\n",
    "               ,[4,5,6]])\n",
    "\n",
    "# np.zeros_like()\n",
    "arr_z = np.zeros_like(arr)\n",
    "print(arr_z)\n",
    "\n",
    "# np.ones_like()\n",
    "arr_o = np.ones_like(arr)\n",
    "print(arr_o)\n",
    "\n",
    "# np.full_like()\n",
    "arr_f = np.full_like(arr, 9)\n",
    "print(arr_f)"
   ]
  },
  {
   "cell_type": "markdown",
   "id": "8c07e546",
   "metadata": {},
   "source": [
    "## 1-4. 특정 범위의 값을 가지는 N차원 배열 생성하기"
   ]
  },
  {
   "cell_type": "code",
   "execution_count": 35,
   "id": "4b1e8083",
   "metadata": {},
   "outputs": [
    {
     "name": "stdout",
     "output_type": "stream",
     "text": [
      "[0, 2, 4, 6, 8]\n"
     ]
    }
   ],
   "source": [
    "lst = list(range(0,9,2))\n",
    "print(lst)"
   ]
  },
  {
   "cell_type": "code",
   "execution_count": 40,
   "id": "084669ac",
   "metadata": {},
   "outputs": [
    {
     "name": "stdout",
     "output_type": "stream",
     "text": [
      "[0 1 2 3 4 5 6 7 8]\n",
      "[ 3  4  5  6  7  8  9 10 11 12]\n",
      "[0 2 4 6 8]\n"
     ]
    }
   ],
   "source": [
    "arr = np.arange(9)\n",
    "print(arr)\n",
    "\n",
    "arr = np.arange(3,13)\n",
    "print(arr)\n",
    "\n",
    "arr = np.arange(0,9,2) # start, stop, step\n",
    "print(arr)"
   ]
  },
  {
   "cell_type": "code",
   "execution_count": 41,
   "id": "7177b5bd",
   "metadata": {},
   "outputs": [
    {
     "name": "stdout",
     "output_type": "stream",
     "text": [
      "[  0.  10.  20.  30.  40.  50.  60.  70.  80.  90. 100.]\n"
     ]
    }
   ],
   "source": [
    "# np.linspace() \n",
    "arr = np.linspace(0, 100, 11) # 0에서 100사이의 11개 원소를 균등한 간격으로\n",
    "print(arr)"
   ]
  },
  {
   "cell_type": "code",
   "execution_count": 47,
   "id": "d44bb33f",
   "metadata": {},
   "outputs": [
    {
     "name": "stdout",
     "output_type": "stream",
     "text": [
      "[   2.    4.    8.   16.   32.   64.  128.  256.  512. 1024.]\n"
     ]
    }
   ],
   "source": [
    "# np.logsapace()\n",
    "arr = np.logspace(1, 10, 10, base=2) #1부터 10까지 10개의 원소를 간격으로 , base는 밑 \n",
    "print(arr)"
   ]
  },
  {
   "cell_type": "code",
   "execution_count": 49,
   "id": "75c0e7cb",
   "metadata": {},
   "outputs": [],
   "source": [
    "import matplotlib.pyplot as plt"
   ]
  },
  {
   "cell_type": "markdown",
   "id": "ee23be08",
   "metadata": {},
   "source": [
    "## 1-5. 난수로 이루어진 N차원 배열 생성하기"
   ]
  },
  {
   "cell_type": "code",
   "execution_count": 51,
   "id": "51caa700",
   "metadata": {},
   "outputs": [
    {
     "name": "stdout",
     "output_type": "stream",
     "text": [
      "[-0.65629496  0.86632419 -1.806404    0.09648722  0.74531694 -0.59975199\n",
      "  0.23759627  0.37082868 -0.77707634  0.40408124]\n",
      "[[-0.58966093 -0.85125156 -0.30556319]\n",
      " [ 0.87554685 -0.20903145 -0.39854492]]\n"
     ]
    }
   ],
   "source": [
    "# np.random.normal()\n",
    "\n",
    "arr = np.random.normal(0,1,10) # 평균, 표준편차, 사이즈\n",
    "print(arr)\n",
    "\n",
    "arr = np.random.normal(0,1,(2,3)) # 평균, 표준편차, 사이즈\n",
    "print(arr)"
   ]
  },
  {
   "cell_type": "code",
   "execution_count": 56,
   "id": "0221d3b0",
   "metadata": {},
   "outputs": [
    {
     "data": {
      "image/png": "[encoded data removed]",
      "text/plain": [
       "<Figure size 432x288 with 1 Axes>"
      ]
     },
     "metadata": {
      "needs_background": "light"
     },
     "output_type": "display_data"
    }
   ],
   "source": [
    "arr = np.random.normal(0,1,1000000)\n",
    "plt.hist(arr, bins=100) # bins : 계급구간\n",
    "plt.show()"
   ]
  },
  {
   "cell_type": "code",
   "execution_count": 57,
   "id": "cd9a00c4",
   "metadata": {},
   "outputs": [
    {
     "data": {
      "image/png": "[encoded data removed]",
      "text/plain": [
       "<Figure size 432x288 with 1 Axes>"
      ]
     },
     "metadata": {
      "needs_background": "light"
     },
     "output_type": "display_data"
    }
   ],
   "source": [
    "# np.random.rand()\n",
    "\n",
    "arr = np.random.rand(1000) #표본갯수\n",
    "plt.hist(arr, bins=100)\n",
    "plt.show()"
   ]
  },
  {
   "cell_type": "code",
   "execution_count": 61,
   "id": "b6e60b27",
   "metadata": {},
   "outputs": [
    {
     "data": {
      "image/png": "[encoded data removed]",
      "text/plain": [
       "<Figure size 432x288 with 1 Axes>"
      ]
     },
     "metadata": {
      "needs_background": "light"
     },
     "output_type": "display_data"
    }
   ],
   "source": [
    "# np.random.randn() 가우시안 분포 -1~1사의 정규분포\n",
    "arr =np.random.randn(1000)\n",
    "plt.hist(arr, bins=100)\n",
    "plt.show()"
   ]
  },
  {
   "cell_type": "code",
   "execution_count": 63,
   "id": "9382f3cb",
   "metadata": {},
   "outputs": [
    {
     "name": "stdout",
     "output_type": "stream",
     "text": [
      "[2 2 1 3 1 4 3 1 4 3]\n",
      "[[4 1 3 1]\n",
      " [1 3 4 3]\n",
      " [2 1 1 3]]\n"
     ]
    }
   ],
   "source": [
    "# np.random.randint()\n",
    "arr = np.random.randint(1, 5, 10) #low,high, size\n",
    "print(arr)\n",
    "\n",
    "arr = np.random.randint(1, 5, (3,4)) #low,high, size\n",
    "print(arr)"
   ]
  },
  {
   "cell_type": "code",
   "execution_count": 64,
   "id": "35970ade",
   "metadata": {},
   "outputs": [
    {
     "data": {
      "image/png": "[encoded data removed]",
      "text/plain": [
       "<Figure size 432x288 with 1 Axes>"
      ]
     },
     "metadata": {
      "needs_background": "light"
     },
     "output_type": "display_data"
    }
   ],
   "source": [
    "arr = np.random.randint(100,200,1000)\n",
    "plt.hist(arr, bins=100)\n",
    "plt.show()"
   ]
  },
  {
   "cell_type": "code",
   "execution_count": 65,
   "id": "eea1ea0b",
   "metadata": {},
   "outputs": [],
   "source": [
    "# rand(), randn(), randint()"
   ]
  },
  {
   "cell_type": "markdown",
   "id": "7acb7059",
   "metadata": {},
   "source": [
    "## 1-6. seed값을 통한 난수 생성 제어"
   ]
  },
  {
   "cell_type": "code",
   "execution_count": 66,
   "id": "b195fa6f",
   "metadata": {},
   "outputs": [
    {
     "name": "stdout",
     "output_type": "stream",
     "text": [
      "난수 발생 1 \n",
      " [0.99409319 0.68593539 0.90833928 0.72934677 0.70878461 0.56363348\n",
      " 0.0462951  0.38495801 0.483349   0.20690528]\n",
      "난수 발생 1 \n",
      " [0.32214515 0.43835971 0.32086229 0.33253272 0.78665924 0.89188764\n",
      " 0.90253349 0.22732322 0.50325063 0.57310936]\n"
     ]
    }
   ],
   "source": [
    "arr = np.random.rand(10)\n",
    "print(\"난수 발생 1 \\n\", arr)\n",
    "\n",
    "arr = np.random.rand(10)\n",
    "print(\"난수 발생 2 \\n\", arr)"
   ]
  },
  {
   "cell_type": "code",
   "execution_count": 71,
   "id": "8f854812",
   "metadata": {},
   "outputs": [
    {
     "name": "stdout",
     "output_type": "stream",
     "text": [
      "난수 발생 1 \n",
      " [4.17022005e-01 7.20324493e-01 1.14374817e-04 3.02332573e-01\n",
      " 1.46755891e-01 9.23385948e-02 1.86260211e-01 3.45560727e-01\n",
      " 3.96767474e-01 5.38816734e-01]\n",
      "난수 발생 2 \n",
      " [4.17022005e-01 7.20324493e-01 1.14374817e-04 3.02332573e-01\n",
      " 1.46755891e-01 9.23385948e-02 1.86260211e-01 3.45560727e-01\n",
      " 3.96767474e-01 5.38816734e-01]\n"
     ]
    }
   ],
   "source": [
    "np.random.seed(1)\n",
    "arr = np.random.rand(10)\n",
    "print(\"난수 발생 1 \\n\", arr)\n",
    "\n",
    "np.random.seed(1)\n",
    "arr = np.random.rand(10)\n",
    "print(\"난수 발생 2 \\n\", arr)"
   ]
  },
  {
   "cell_type": "markdown",
   "id": "ced5b94c",
   "metadata": {},
   "source": [
    "# Section 2. N차원 배열의 인덱싱"
   ]
  },
  {
   "cell_type": "markdown",
   "id": "6420e387",
   "metadata": {},
   "source": [
    "## 2-1. 배열의 index 접근하기"
   ]
  },
  {
   "cell_type": "code",
   "execution_count": 76,
   "id": "9359e1a2",
   "metadata": {},
   "outputs": [
    {
     "name": "stdout",
     "output_type": "stream",
     "text": [
      "[0 1 2 3 4 5 6 7 8 9]\n",
      "3\n",
      "1\n",
      "7\n",
      "0\n"
     ]
    }
   ],
   "source": [
    "# 1차원 배열\n",
    "arr = np.arange(10)\n",
    "print(arr)\n",
    "\n",
    "\n",
    "print(arr[3])\n",
    "print(arr[1])\n",
    "print(arr[-3])\n",
    "print(arr[-10])"
   ]
  },
  {
   "cell_type": "code",
   "execution_count": 79,
   "id": "51946ad0",
   "metadata": {},
   "outputs": [
    {
     "name": "stdout",
     "output_type": "stream",
     "text": [
      "[[ 1  2  3  4]\n",
      " [ 5  6  7  8]\n",
      " [ 9 10 11 12]] (3, 4) 2\n",
      "4\n"
     ]
    }
   ],
   "source": [
    "# 2차원 배열 \n",
    "arr = np.arange(1,13).reshape(3,4)\n",
    "print(arr, arr.shape, arr.ndim)\n",
    "\n",
    "print(arr[0][3])"
   ]
  },
  {
   "cell_type": "code",
   "execution_count": 82,
   "id": "44b750c8",
   "metadata": {},
   "outputs": [
    {
     "name": "stdout",
     "output_type": "stream",
     "text": [
      "[3 4 5 6 7]\n",
      "[3 4 5 6 7 8 9]\n",
      "[0 1 2 3 4 5 6]\n",
      "[0 1 2 3 4 5 6 7 8]\n"
     ]
    }
   ],
   "source": [
    "arr = np.arange(10)\n",
    "print(arr[3:8])\n",
    "print(arr[3:])\n",
    "print(arr[:7])\n",
    "print(arr[:-1])"
   ]
  },
  {
   "cell_type": "code",
   "execution_count": 84,
   "id": "9cf6b662",
   "metadata": {},
   "outputs": [
    {
     "name": "stdout",
     "output_type": "stream",
     "text": [
      "[1 2 3 4]\n",
      "[ 2  6 10]\n"
     ]
    }
   ],
   "source": [
    "arr = np.arange(1,13).reshape(3,4)\n",
    "print(arr[0, :])\n",
    "print(arr[:,1])"
   ]
  },
  {
   "cell_type": "code",
   "execution_count": 86,
   "id": "77406824",
   "metadata": {},
   "outputs": [
    {
     "name": "stdout",
     "output_type": "stream",
     "text": [
      "[[ 1  2  3  4]\n",
      " [ 5  6  7  8]\n",
      " [ 9 10 11 12]]\n",
      "[[1 2]\n",
      " [5 6]]\n"
     ]
    }
   ],
   "source": [
    "print(arr[:3,:])\n",
    "print(arr[:2, :2])"
   ]
  },
  {
   "cell_type": "markdown",
   "id": "839499f2",
   "metadata": {},
   "source": [
    "## 2-2. 배열의 Fancy 인덱싱"
   ]
  },
  {
   "cell_type": "code",
   "execution_count": 89,
   "id": "ec57dfbf",
   "metadata": {},
   "outputs": [
    {
     "name": "stdout",
     "output_type": "stream",
     "text": [
      "[ 5 15 25]\n"
     ]
    }
   ],
   "source": [
    "# 1차원 배열\n",
    "arr = np.arange(5,31,5)\n",
    "print(arr[[0,2,4]])"
   ]
  },
  {
   "cell_type": "code",
   "execution_count": 93,
   "id": "001b27bd",
   "metadata": {},
   "outputs": [
    {
     "name": "stdout",
     "output_type": "stream",
     "text": [
      "[[ 5 10 15 20]\n",
      " [25 30 35 40]\n",
      " [45 50 55 60]]\n",
      "[[15 20]\n",
      " [55 60]]\n",
      "[[35 40]\n",
      " [55 60]]\n"
     ]
    }
   ],
   "source": [
    "# 2차원 배열\n",
    "arr = np.arange(5,61,5).reshape(3,4)\n",
    "print(arr)\n",
    "print(arr[[0,2], 2:])\n",
    "print(arr[1:,[2,3]])"
   ]
  },
  {
   "cell_type": "markdown",
   "id": "2c1bd219",
   "metadata": {},
   "source": [
    "## 2-3. 배열의 Boolean 인덱싱"
   ]
  },
  {
   "cell_type": "code",
   "execution_count": 96,
   "id": "1aa99a4c",
   "metadata": {},
   "outputs": [
    {
     "name": "stdout",
     "output_type": "stream",
     "text": [
      "[1 3 4]\n",
      "[[1 2 3 4]]\n"
     ]
    }
   ],
   "source": [
    "arr = np.array([1,2,3,4])\n",
    "print(arr[[True, False, True, True]])\n",
    "\n",
    "arr = np.array([[1,2,3,4],\n",
    "               [5,6,7,8]])\n",
    "\n",
    "print(arr[[True, False],True])"
   ]
  },
  {
   "cell_type": "code",
   "execution_count": 98,
   "id": "cd1cab51",
   "metadata": {},
   "outputs": [
    {
     "name": "stdout",
     "output_type": "stream",
     "text": [
      "[5 6 7 8]\n",
      "[4 5 6 7 8]\n",
      "[1 2]\n"
     ]
    }
   ],
   "source": [
    "arr = np.array([[1,2,3,4],\n",
    "               [5,6,7,8]])\n",
    "\n",
    "print(arr[arr > 4])\n",
    "print(arr[arr > 3])\n",
    "print(arr[arr <= 2])"
   ]
  },
  {
   "cell_type": "markdown",
   "id": "c55de819",
   "metadata": {},
   "source": [
    "# Section 3. N차원 배열 연산법"
   ]
  },
  {
   "cell_type": "markdown",
   "id": "7fa58d4a",
   "metadata": {},
   "source": [
    "## 3-1. 배열의 연산1: 사칙연산/제곱/제곱근/몫/나머지"
   ]
  },
  {
   "cell_type": "code",
   "execution_count": 99,
   "id": "d308edd8",
   "metadata": {},
   "outputs": [
    {
     "name": "stdout",
     "output_type": "stream",
     "text": [
      "[[1 2 3]\n",
      " [4 5 6]\n",
      " [7 8 9]]\n",
      "[[2 2 2]\n",
      " [2 2 2]\n",
      " [2 2 2]]\n"
     ]
    }
   ],
   "source": [
    "arr1 = np.array([[1,2,3],\n",
    "                 [4,5,6],\n",
    "                 [7,8,9]])\n",
    "\n",
    "arr2 = np.array([[2,2,2],\n",
    "                 [2,2,2],\n",
    "                 [2,2,2]])\n",
    "\n",
    "print(arr1)\n",
    "print(arr2)"
   ]
  },
  {
   "cell_type": "code",
   "execution_count": 105,
   "id": "d1c8d862",
   "metadata": {},
   "outputs": [
    {
     "name": "stdout",
     "output_type": "stream",
     "text": [
      "[[ 3  4  5]\n",
      " [ 6  7  8]\n",
      " [ 9 10 11]]\n",
      "[[ 3  4  5]\n",
      " [ 6  7  8]\n",
      " [ 9 10 11]]\n"
     ]
    }
   ],
   "source": [
    "# 덧셈\n",
    "print(arr1 + arr2)\n",
    "print(np.add(arr1,arr2))"
   ]
  },
  {
   "cell_type": "code",
   "execution_count": 106,
   "id": "61e38e84",
   "metadata": {},
   "outputs": [
    {
     "name": "stdout",
     "output_type": "stream",
     "text": [
      "[[-1  0  1]\n",
      " [ 2  3  4]\n",
      " [ 5  6  7]]\n",
      "[[-1  0  1]\n",
      " [ 2  3  4]\n",
      " [ 5  6  7]]\n"
     ]
    }
   ],
   "source": [
    "# 뺼셈\n",
    "print(arr1 - arr2)\n",
    "print(np.subtract(arr1,arr2))"
   ]
  },
  {
   "cell_type": "code",
   "execution_count": 108,
   "id": "06baaec3",
   "metadata": {},
   "outputs": [
    {
     "name": "stdout",
     "output_type": "stream",
     "text": [
      "[[ 2  4  6]\n",
      " [ 8 10 12]\n",
      " [14 16 18]]\n",
      "[[ 2  4  6]\n",
      " [ 8 10 12]\n",
      " [14 16 18]]\n"
     ]
    }
   ],
   "source": [
    "# 곱셈\n",
    "print(arr1 * arr2)\n",
    "print(np.multiply(arr1,arr2)) # 주의 : 행렬간의 내적곱과 다름."
   ]
  },
  {
   "cell_type": "code",
   "execution_count": 109,
   "id": "044d78d4",
   "metadata": {},
   "outputs": [
    {
     "name": "stdout",
     "output_type": "stream",
     "text": [
      "[[0.5 1.  1.5]\n",
      " [2.  2.5 3. ]\n",
      " [3.5 4.  4.5]]\n",
      "[[0.5 1.  1.5]\n",
      " [2.  2.5 3. ]\n",
      " [3.5 4.  4.5]]\n"
     ]
    }
   ],
   "source": [
    "# 나눗셈\n",
    "print(arr1 / arr2)\n",
    "print(np.divide(arr1,arr2))"
   ]
  },
  {
   "cell_type": "code",
   "execution_count": 111,
   "id": "d2dc1df7",
   "metadata": {},
   "outputs": [
    {
     "name": "stdout",
     "output_type": "stream",
     "text": [
      "[[ 1  4  9]\n",
      " [16 25 36]\n",
      " [49 64 81]]\n",
      "[[ 1  4  9]\n",
      " [16 25 36]\n",
      " [49 64 81]]\n"
     ]
    }
   ],
   "source": [
    "# 제곱\n",
    "print(arr1 **2)\n",
    "print(np.square(arr1))"
   ]
  },
  {
   "cell_type": "code",
   "execution_count": 112,
   "id": "8a392541",
   "metadata": {},
   "outputs": [
    {
     "name": "stdout",
     "output_type": "stream",
     "text": [
      "[[1.         1.41421356 1.73205081]\n",
      " [2.         2.23606798 2.44948974]\n",
      " [2.64575131 2.82842712 3.        ]]\n"
     ]
    }
   ],
   "source": [
    "# 제곱근\n",
    "print(np.sqrt(arr1))"
   ]
  },
  {
   "cell_type": "code",
   "execution_count": 116,
   "id": "5d70866d",
   "metadata": {},
   "outputs": [
    {
     "name": "stdout",
     "output_type": "stream",
     "text": [
      "[[0 1 1]\n",
      " [2 2 3]\n",
      " [3 4 4]]\n",
      "[[1 0 1]\n",
      " [0 1 0]\n",
      " [1 0 1]]\n"
     ]
    }
   ],
   "source": [
    "# 몫\n",
    "print(arr1 // 2)\n",
    "\n",
    "# 나머지\n",
    "print(arr1 % 2)"
   ]
  },
  {
   "cell_type": "markdown",
   "id": "d144006f",
   "metadata": {},
   "source": [
    "## 3-2. 배열의 연산2: 내적(dot product)/절댓값/올림/내림/반올림/버림"
   ]
  },
  {
   "cell_type": "code",
   "execution_count": 117,
   "id": "a82de8b0",
   "metadata": {},
   "outputs": [
    {
     "name": "stdout",
     "output_type": "stream",
     "text": [
      "20\n"
     ]
    }
   ],
   "source": [
    "# 1차원 배열\n",
    "arr1 = np.array([2,3,4])\n",
    "arr2 = np.array([1,2,3])\n",
    "\n",
    "print(np.dot(arr1,arr2))"
   ]
  },
  {
   "cell_type": "code",
   "execution_count": 118,
   "id": "dfd50c26",
   "metadata": {},
   "outputs": [
    {
     "name": "stdout",
     "output_type": "stream",
     "text": [
      "[[ 1  8]\n",
      " [ 4 23]]\n"
     ]
    }
   ],
   "source": [
    "# 2차원 배열\n",
    "'''\n",
    "[[a, b] [[e,f]      [[ae+bg, af+bh]\n",
    " [c.d]]  [g,h]] =>   [ce+dg, cf+dh]]\n",
    "'''\n",
    "\n",
    "arr1 = np.array([[1,2],\n",
    "                 [4,5]])\n",
    "\n",
    "arr2= np.array([[1,2],\n",
    "                 [0,3]])\n",
    "\n",
    "print(np.dot(arr1, arr2))"
   ]
  },
  {
   "cell_type": "code",
   "execution_count": 119,
   "id": "827775b8",
   "metadata": {},
   "outputs": [
    {
     "name": "stdout",
     "output_type": "stream",
     "text": [
      "[[1 2]\n",
      " [4 5]]\n"
     ]
    }
   ],
   "source": [
    "# 절댓값\n",
    "arr1 = np.array([[1, -2],\n",
    "                [-4, 5]])\n",
    "\n",
    "print(np.abs(arr1))"
   ]
  },
  {
   "cell_type": "code",
   "execution_count": 124,
   "id": "34b0ba27",
   "metadata": {},
   "outputs": [
    {
     "name": "stdout",
     "output_type": "stream",
     "text": [
      "[[ 2. -2.]\n",
      " [-4.  6.]]\n",
      "[[ 1. -3.]\n",
      " [-5.  5.]]\n",
      "[[ 2. -2.]\n",
      " [-4.  5.]]\n",
      "[[ 1. -2.]\n",
      " [-4.  5.]]\n"
     ]
    }
   ],
   "source": [
    "# 올림\n",
    "arr1 = np.array([[1.932, -2.339],\n",
    "                [-4.145, 5.206]])\n",
    "\n",
    "print(np.ceil(arr1))\n",
    "\n",
    "# 내림\n",
    "print(np.floor(arr1))\n",
    "\n",
    "# 반올림\n",
    "print(np.round(arr1))\n",
    "\n",
    "# 버림\n",
    "print(np.trunc(arr1))"
   ]
  },
  {
   "cell_type": "markdown",
   "id": "7a92fbff",
   "metadata": {},
   "source": [
    "## 3-3. 배열의 연산3: min/max/sum/mean/std/cumsum/median"
   ]
  },
  {
   "cell_type": "code",
   "execution_count": 125,
   "id": "3a415ede",
   "metadata": {},
   "outputs": [],
   "source": [
    "arr = np.array([[1,2,3],\n",
    "                [0,1,4]])"
   ]
  },
  {
   "cell_type": "code",
   "execution_count": 129,
   "id": "2afe7268",
   "metadata": {},
   "outputs": [
    {
     "name": "stdout",
     "output_type": "stream",
     "text": [
      "0\n",
      "0\n",
      "[0 1 3]\n",
      "[1 0]\n"
     ]
    }
   ],
   "source": [
    "# min()\n",
    "print(np.min(arr))\n",
    "print(arr.min())\n",
    "print(arr.min(axis=0))\n",
    "print(arr.min(axis=1))"
   ]
  },
  {
   "cell_type": "code",
   "execution_count": 131,
   "id": "399a2c36",
   "metadata": {},
   "outputs": [
    {
     "name": "stdout",
     "output_type": "stream",
     "text": [
      "4\n",
      "4\n",
      "[1 2 4]\n",
      "[3 4]\n"
     ]
    }
   ],
   "source": [
    "# max()\n",
    "print(np.max(arr))\n",
    "print(arr.max())\n",
    "print(arr.max(axis=0))\n",
    "print(arr.max(axis=1))"
   ]
  },
  {
   "cell_type": "code",
   "execution_count": 133,
   "id": "5224ffee",
   "metadata": {},
   "outputs": [
    {
     "name": "stdout",
     "output_type": "stream",
     "text": [
      "11\n",
      "11\n",
      "[1 3 7]\n",
      "[6 5]\n"
     ]
    }
   ],
   "source": [
    "# sum()\n",
    "print(np.sum(arr))\n",
    "print(arr.sum())\n",
    "print(arr.sum(axis=0))\n",
    "print(arr.sum(axis=1))"
   ]
  },
  {
   "cell_type": "code",
   "execution_count": 132,
   "id": "172d2549",
   "metadata": {},
   "outputs": [
    {
     "name": "stdout",
     "output_type": "stream",
     "text": [
      "1.8333333333333333\n",
      "1.8333333333333333\n",
      "[0.5 1.5 3.5]\n",
      "[2.         1.66666667]\n"
     ]
    }
   ],
   "source": [
    "# mean() - 평균\n",
    "print(np.mean(arr))\n",
    "print(arr.mean())\n",
    "print(arr.mean(axis=0))\n",
    "print(arr.mean(axis=1))"
   ]
  },
  {
   "cell_type": "code",
   "execution_count": 134,
   "id": "ddb15ae1",
   "metadata": {},
   "outputs": [
    {
     "name": "stdout",
     "output_type": "stream",
     "text": [
      "1.343709624716425\n",
      "1.343709624716425\n",
      "[0.5 0.5 0.5]\n",
      "[0.81649658 1.69967317]\n"
     ]
    }
   ],
   "source": [
    "# std() - 표준편차\n",
    "print(np.std(arr))\n",
    "print(arr.std())\n",
    "print(arr.std(axis=0))\n",
    "print(arr.std(axis=1))"
   ]
  },
  {
   "cell_type": "code",
   "execution_count": 138,
   "id": "98eac04e",
   "metadata": {},
   "outputs": [
    {
     "name": "stdout",
     "output_type": "stream",
     "text": [
      "[ 1  3  6  6  7 11]\n",
      "[ 1  3  6  6  7 11]\n",
      "[[1 2 3]\n",
      " [1 3 7]]\n",
      "[[1 3 6]\n",
      " [0 1 5]]\n"
     ]
    }
   ],
   "source": [
    "# cumsum() - 누적합\n",
    "print(np.cumsum(arr))\n",
    "print(arr.cumsum())\n",
    "print(arr.cumsum(axis=0))\n",
    "print(arr.cumsum(axis=1))"
   ]
  },
  {
   "cell_type": "code",
   "execution_count": 139,
   "id": "b7b5d1f6",
   "metadata": {},
   "outputs": [
    {
     "name": "stdout",
     "output_type": "stream",
     "text": [
      "1.5\n",
      "[0.5 1.5 3.5]\n",
      "[2. 1.]\n"
     ]
    }
   ],
   "source": [
    "# median() - 중앙값\n",
    "print(np.median(arr))\n",
    "print(np.median(arr,axis=0))\n",
    "print(np.median(arr,axis=1))"
   ]
  },
  {
   "cell_type": "markdown",
   "id": "a3fe4b2e",
   "metadata": {},
   "source": [
    "## 3-4. 배열의 연산4: 비교 연산/삼각 함수"
   ]
  },
  {
   "cell_type": "code",
   "execution_count": 142,
   "id": "f69176b2",
   "metadata": {},
   "outputs": [
    {
     "name": "stdout",
     "output_type": "stream",
     "text": [
      "[[ True False  True]\n",
      " [ True False False]]\n",
      "[[False  True False]\n",
      " [False  True False]]\n",
      "[[ True  True  True]\n",
      " [ True  True False]]\n",
      "False\n"
     ]
    }
   ],
   "source": [
    "# 비교 연산\n",
    "arr1 = np.array([[1,2,3],\n",
    "                 [4,5,6]])\n",
    "\n",
    "arr2 = np.array([[1,0,3],\n",
    "                 [4,-2,9]])\n",
    "\n",
    "print(arr1 == arr2)\n",
    "print(arr1 > arr2)\n",
    "print(arr1 >= arr2)\n",
    "print(np.array_equal(arr1,arr2))"
   ]
  },
  {
   "cell_type": "code",
   "execution_count": 146,
   "id": "726e4589",
   "metadata": {},
   "outputs": [
    {
     "name": "stdout",
     "output_type": "stream",
     "text": [
      "[[ 0.84147098  0.90929743  0.14112001]\n",
      " [-0.7568025  -0.95892427 -0.2794155 ]]\n",
      "[[ 0.54030231 -0.41614684 -0.9899925 ]\n",
      " [-0.65364362  0.28366219  0.96017029]]\n",
      "[[ 1.55740772 -2.18503986 -0.14254654]\n",
      " [ 1.15782128 -3.38051501 -0.29100619]]\n",
      "3.141592653589793\n"
     ]
    }
   ],
   "source": [
    "# 삼각 함수\n",
    "arr  = np.array([[1,2,3],\n",
    "                 [4,5,6]])\n",
    "\n",
    "# sin()\n",
    "print(np.sin(arr))\n",
    "\n",
    "# cos()\n",
    "print(np.cos(arr))\n",
    "\n",
    "# tan()\n",
    "print(np.tan(arr))\n",
    "\n",
    "# pi\n",
    "print(np.pi)"
   ]
  },
  {
   "cell_type": "markdown",
   "id": "1b48bf62",
   "metadata": {},
   "source": [
    "## 3-5. 브로드캐스팅(Broadcasting)"
   ]
  },
  {
   "cell_type": "code",
   "execution_count": 149,
   "id": "80bc7b99",
   "metadata": {},
   "outputs": [
    {
     "name": "stdout",
     "output_type": "stream",
     "text": [
      "[[5 6 7]\n",
      " [6 7 8]\n",
      " [7 8 9]]\n",
      "[[1 1 1]\n",
      " [2 2 2]\n",
      " [3 3 3]]\n"
     ]
    }
   ],
   "source": [
    "arr1 = np.array([[0,0,0],\n",
    "                 [1,1,1],\n",
    "                 [2,2,2]])\n",
    "\n",
    "arr2 = np.array([[5,6,7]])\n",
    "\n",
    "print(arr1+arr2)\n",
    "\n",
    "arr1 = np.array([[1,1,1]])\n",
    "arr2 = np.array([[0],\n",
    "                 [1],\n",
    "                 [2]])\n",
    "\n",
    "print(arr1+arr2)"
   ]
  },
  {
   "cell_type": "markdown",
   "id": "703dfb84",
   "metadata": {},
   "source": [
    "## 3-6. 벡터 연산의 장점"
   ]
  },
  {
   "cell_type": "code",
   "execution_count": 150,
   "id": "1fffe7ca",
   "metadata": {},
   "outputs": [],
   "source": [
    "import time"
   ]
  },
  {
   "cell_type": "code",
   "execution_count": 151,
   "id": "3eef1f80",
   "metadata": {},
   "outputs": [],
   "source": [
    "arr = np.arange(99999999)"
   ]
  },
  {
   "cell_type": "code",
   "execution_count": 157,
   "id": "feab219b",
   "metadata": {},
   "outputs": [
    {
     "name": "stderr",
     "output_type": "stream",
     "text": [
      "C:\\Users\\rlaru\\AppData\\Local\\Temp/ipykernel_10320/2985873511.py:5: RuntimeWarning: overflow encountered in long_scalars\n",
      "  _sum += i\n"
     ]
    },
    {
     "name": "stdout",
     "output_type": "stream",
     "text": [
      "787459713 15.78486180305481\n"
     ]
    }
   ],
   "source": [
    "# for\n",
    "_sum = 0\n",
    "before = time.time()\n",
    "for i in arr:\n",
    "    _sum += i\n",
    "after = time.time()\n",
    "print(_sum, after-before)"
   ]
  },
  {
   "cell_type": "code",
   "execution_count": 156,
   "id": "e324f3ac",
   "metadata": {},
   "outputs": [
    {
     "name": "stdout",
     "output_type": "stream",
     "text": [
      "787459713 0.069000244140625\n"
     ]
    }
   ],
   "source": [
    "# 벡터 연산\n",
    "before = time.time()\n",
    "_sum = np.sum(arr)\n",
    "after = time.time()\n",
    "print(_sum, after-before)"
   ]
  },
  {
   "cell_type": "code",
   "execution_count": 158,
   "id": "12cdbf5f",
   "metadata": {},
   "outputs": [],
   "source": [
    "arr1 = np.arange(99999999)\n",
    "arr2 = np.arange(99999999)"
   ]
  },
  {
   "cell_type": "code",
   "execution_count": 159,
   "id": "3016e0e6",
   "metadata": {},
   "outputs": [
    {
     "name": "stderr",
     "output_type": "stream",
     "text": [
      "C:\\Users\\rlaru\\AppData\\Local\\Temp/ipykernel_10320/1630081733.py:5: RuntimeWarning: overflow encountered in long_scalars\n",
      "  _sum += i*j\n"
     ]
    },
    {
     "name": "stdout",
     "output_type": "stream",
     "text": [
      "1167976319 215.970627784729\n"
     ]
    }
   ],
   "source": [
    "# for\n",
    "_sum = 0\n",
    "before = time.time()\n",
    "for i,j in zip(arr1, arr2):\n",
    "    _sum += i*j\n",
    "after = time.time()\n",
    "print(_sum, after-before)"
   ]
  },
  {
   "cell_type": "code",
   "execution_count": 160,
   "id": "14f4097d",
   "metadata": {},
   "outputs": [
    {
     "name": "stdout",
     "output_type": "stream",
     "text": [
      "1167976319 1.3445956707000732\n"
     ]
    }
   ],
   "source": [
    "# 벡터 연산\n",
    "before = time.time()\n",
    "_sum = np.dot(arr1, arr2)\n",
    "after = time.time()\n",
    "print(_sum, after-before)"
   ]
  },
  {
   "cell_type": "markdown",
   "id": "49279b6d",
   "metadata": {},
   "source": [
    "# Section 4. N차원 배열의 정렬"
   ]
  },
  {
   "cell_type": "markdown",
   "id": "49696bbe",
   "metadata": {},
   "source": [
    "## 4-1. 1차원 배열의 정렬"
   ]
  },
  {
   "cell_type": "code",
   "execution_count": 161,
   "id": "aafd780b",
   "metadata": {},
   "outputs": [
    {
     "name": "stdout",
     "output_type": "stream",
     "text": [
      "[5 2 4 2 4 7 7 9 1 7]\n"
     ]
    }
   ],
   "source": [
    "arr = np.random.randint(10, size=10)\n",
    "print(arr)"
   ]
  },
  {
   "cell_type": "code",
   "execution_count": 163,
   "id": "4cb3701d",
   "metadata": {},
   "outputs": [
    {
     "name": "stdout",
     "output_type": "stream",
     "text": [
      "[1 2 2 4 4 5 7 7 7 9]\n",
      "[9 7 7 7 5 4 4 2 2 1]\n"
     ]
    }
   ],
   "source": [
    "print(np.sort(arr))\n",
    "print(np.sort(arr)[::-1])"
   ]
  },
  {
   "cell_type": "code",
   "execution_count": 166,
   "id": "bd475e27",
   "metadata": {},
   "outputs": [
    {
     "name": "stdout",
     "output_type": "stream",
     "text": [
      "[1 2 2 4 4 5 7 7 7 9]\n",
      "[1 2 2 4 4 5 7 7 7 9]\n",
      "[1 2 2 4 4 5 7 7 7 9]\n"
     ]
    }
   ],
   "source": [
    "print(arr)\n",
    "arr = np.sort(arr)\n",
    "print(arr)\n",
    "arr.sort()\n",
    "print(arr)"
   ]
  },
  {
   "cell_type": "markdown",
   "id": "24e799aa",
   "metadata": {},
   "source": [
    "## 4-2. 2차원 배열의 정렬"
   ]
  },
  {
   "cell_type": "code",
   "execution_count": 170,
   "id": "2de4f4a1",
   "metadata": {},
   "outputs": [
    {
     "name": "stdout",
     "output_type": "stream",
     "text": [
      "[[12  1  8  8]\n",
      " [13  3 10  9]\n",
      " [ 8 14  7  3]]\n"
     ]
    }
   ],
   "source": [
    "arr = np.random.randint(15, size=(3,4))\n",
    "print(arr)"
   ]
  },
  {
   "cell_type": "code",
   "execution_count": 168,
   "id": "009a6ac4",
   "metadata": {},
   "outputs": [
    {
     "name": "stdout",
     "output_type": "stream",
     "text": [
      "[ 0  0  1  6  6  7  9  9  9 13 13 14]\n"
     ]
    }
   ],
   "source": [
    "print(np.sort(arr, axis=None))"
   ]
  },
  {
   "cell_type": "code",
   "execution_count": 172,
   "id": "9a4478d3",
   "metadata": {},
   "outputs": [
    {
     "name": "stdout",
     "output_type": "stream",
     "text": [
      "[[ 8  1  7  3]\n",
      " [12  3  8  8]\n",
      " [13 14 10  9]]\n",
      "[[2 0 2 2]\n",
      " [0 1 0 0]\n",
      " [1 2 1 1]]\n"
     ]
    }
   ],
   "source": [
    "# argsort()\n",
    "print(np.sort(arr, axis=0))\n",
    "print(np.argsort(arr, axis=0)) # 인덱스 값"
   ]
  },
  {
   "cell_type": "markdown",
   "id": "6a069d4b",
   "metadata": {},
   "source": [
    "# Section 5. N차원 배열의 형태 변경"
   ]
  },
  {
   "cell_type": "markdown",
   "id": "fcff996a",
   "metadata": {},
   "source": [
    "## 5-1. 배열의 형태변경1: reshape()"
   ]
  },
  {
   "cell_type": "code",
   "execution_count": 176,
   "id": "7a7a17b8",
   "metadata": {},
   "outputs": [
    {
     "name": "stdout",
     "output_type": "stream",
     "text": [
      "[ 0  1  2  3  4  5  6  7  8  9 10 11] 1\n",
      "[[ 0  1  2  3]\n",
      " [ 4  5  6  7]\n",
      " [ 8  9 10 11]] 2\n",
      "[[[ 0  1]\n",
      "  [ 2  3]\n",
      "  [ 4  5]]\n",
      "\n",
      " [[ 6  7]\n",
      "  [ 8  9]\n",
      "  [10 11]]] 3\n"
     ]
    }
   ],
   "source": [
    "arr = np.arange(12)\n",
    "print(arr, arr.ndim)\n",
    "\n",
    "arr = arr.reshape((3,4))\n",
    "print(arr, arr.ndim)\n",
    "\n",
    "arr = arr.reshape((2,3,2))\n",
    "print(arr, arr.ndim)"
   ]
  },
  {
   "cell_type": "markdown",
   "id": "b1da1449",
   "metadata": {},
   "source": [
    "# 5-2. 배열의 형태 변경2: resize(), ravel()"
   ]
  },
  {
   "cell_type": "code",
   "execution_count": 177,
   "id": "49d30814",
   "metadata": {},
   "outputs": [
    {
     "name": "stdout",
     "output_type": "stream",
     "text": [
      "[ 0  1  2  3  4  5  6  7  8  9 10 11] 1\n"
     ]
    }
   ],
   "source": [
    "arr = np.arange(12)\n",
    "print(arr, arr.ndim)"
   ]
  },
  {
   "cell_type": "code",
   "execution_count": 179,
   "id": "af4f7429",
   "metadata": {},
   "outputs": [
    {
     "name": "stdout",
     "output_type": "stream",
     "text": [
      "[[ 0  1  2  3]\n",
      " [ 4  5  6  7]\n",
      " [ 8  9 10 11]]\n",
      "[ 0  1  2  3  4  5  6  7  8  9 10 11]\n"
     ]
    }
   ],
   "source": [
    "arr.resize(3,4)\n",
    "print(arr)\n",
    "\n",
    "arr = arr.ravel() # 1차원으로 변경\n",
    "print(arr)"
   ]
  },
  {
   "cell_type": "code",
   "execution_count": 180,
   "id": "c766d098",
   "metadata": {},
   "outputs": [
    {
     "name": "stdout",
     "output_type": "stream",
     "text": [
      "[ 1  2  3  4  5  6  7  8  9 10 11 12]\n",
      "[[ 1  2  3  4]\n",
      " [ 5  6  7  8]\n",
      " [ 9 10 11 12]]\n"
     ]
    }
   ],
   "source": [
    "arr = np.arange(1,13)\n",
    "print(arr)\n",
    "\n",
    "arr = arr.reshape(3, -1) # -1 을 자동으로 계산\n",
    "print(arr)"
   ]
  },
  {
   "cell_type": "code",
   "execution_count": 181,
   "id": "9fd5d8e6",
   "metadata": {},
   "outputs": [
    {
     "name": "stdout",
     "output_type": "stream",
     "text": [
      "[ 1  2  3  4  5  6  7  8  9 10 11 12]\n",
      "[[ 1  2  3]\n",
      " [ 4  5  6]\n",
      " [ 7  8  9]\n",
      " [10 11 12]]\n"
     ]
    }
   ],
   "source": [
    "arr = np.arange(1,13)\n",
    "print(arr)\n",
    "\n",
    "arr = arr.reshape(-1, 3) # -1 을 자동으로 계산\n",
    "print(arr)\n"
   ]
  },
  {
   "cell_type": "code",
   "execution_count": 182,
   "id": "78ed0eec",
   "metadata": {},
   "outputs": [
    {
     "name": "stdout",
     "output_type": "stream",
     "text": [
      "[ 1  2  3  4  5  6  7  8  9 10 11 12]\n",
      "[[[ 1  2]\n",
      "  [ 3  4]]\n",
      "\n",
      " [[ 5  6]\n",
      "  [ 7  8]]\n",
      "\n",
      " [[ 9 10]\n",
      "  [11 12]]]\n"
     ]
    }
   ],
   "source": [
    "arr = np.arange(1,13)\n",
    "print(arr)\n",
    "\n",
    "arr = arr.reshape(3,2,-1) # -1 을 자동으로 계산\n",
    "print(arr)\n"
   ]
  },
  {
   "cell_type": "markdown",
   "id": "2da84d56",
   "metadata": {},
   "source": [
    "# 5-3. 배열의 형태 변경3: expand_dims(), squeeze()"
   ]
  },
  {
   "cell_type": "code",
   "execution_count": 187,
   "id": "cf183d8c",
   "metadata": {},
   "outputs": [
    {
     "name": "stdout",
     "output_type": "stream",
     "text": [
      "[1 2] (2,)\n",
      "[[1 2]] (1, 2)\n",
      "[[[1 2]]] (1, 1, 2)\n"
     ]
    }
   ],
   "source": [
    "# expand_dims()\n",
    "arr = np.array([1,2])\n",
    "print(arr, arr.shape)\n",
    "\n",
    "arr = np.expand_dims(arr, axis=0)\n",
    "print(arr, arr.shape)\n",
    "\n",
    "arr = np.expand_dims(arr, axis=1)\n",
    "print(arr, arr.shape)"
   ]
  },
  {
   "cell_type": "code",
   "execution_count": 195,
   "id": "48fee532",
   "metadata": {},
   "outputs": [
    {
     "name": "stdout",
     "output_type": "stream",
     "text": [
      "[[1 2]] (1, 2) 2\n",
      "[1 2] (2,) 1\n",
      "[[[1]\n",
      "  [2]\n",
      "  [3]]] (1, 3, 1) 3\n",
      "[[1]\n",
      " [2]\n",
      " [3]] (3, 1) 2\n",
      "[[[1 2 3]]] (1, 1, 3) 3\n",
      "[[1 2 3]] (1, 3) 2\n"
     ]
    }
   ],
   "source": [
    "# squeeze() - 차원 축소\n",
    "arr = np.array([[1,2]])\n",
    "print(arr, arr.shape, arr.ndim)\n",
    "arr = np.squeeze(arr, axis=0)\n",
    "print(arr, arr.shape, arr.ndim)\n",
    "\n",
    "\n",
    "arr = np.array([[[1],\n",
    "                [2],\n",
    "                [3]]])\n",
    "print(arr, arr.shape, arr.ndim)\n",
    "arr = np.squeeze(arr, axis=0)\n",
    "print(arr, arr.shape, arr.ndim)\n",
    "\n",
    "arr = np.array([[[1,2,3]]])\n",
    "print(arr, arr.shape, arr.ndim)\n",
    "arr = np.squeeze(arr, axis=1)\n",
    "print(arr, arr.shape, arr.ndim)"
   ]
  },
  {
   "cell_type": "markdown",
   "id": "6f402338",
   "metadata": {},
   "source": [
    "## 5-4. 전치행렬(Transpose Matrix)"
   ]
  },
  {
   "cell_type": "code",
   "execution_count": 197,
   "id": "7638b0f0",
   "metadata": {},
   "outputs": [
    {
     "name": "stdout",
     "output_type": "stream",
     "text": [
      "[[1 3]\n",
      " [2 4]]\n",
      "[[1 4 7]\n",
      " [2 5 8]\n",
      " [3 6 9]]\n"
     ]
    }
   ],
   "source": [
    "arr = np.array([[1,2],\n",
    "                [3,4]])\n",
    "\n",
    "print(arr.T)\n",
    "\n",
    "arr = np.array([[1,2,3],\n",
    "                [4,5,6],\n",
    "                [7,8,9]])\n",
    "\n",
    "print(arr.T)"
   ]
  },
  {
   "cell_type": "code",
   "execution_count": 206,
   "id": "cfabfdbf",
   "metadata": {},
   "outputs": [
    {
     "name": "stdout",
     "output_type": "stream",
     "text": [
      "[[1 3 5]\n",
      " [2 4 6]]\n",
      "[[18 18]\n",
      " [24 24]]\n",
      "[[ 6  6  6]\n",
      " [14 14 14]\n",
      " [22 22 22]]\n"
     ]
    }
   ],
   "source": [
    "arr = np.array([[1,2],\n",
    "                [3,4],\n",
    "                [5,6]])\n",
    "\n",
    "print(arr.T)\n",
    "\n",
    "arr2 = np.full((3,2),2)\n",
    "print((arr.T).dot(arr2))\n",
    "print(arr.dot(arr2.T))"
   ]
  },
  {
   "cell_type": "markdown",
   "id": "77cda0b4",
   "metadata": {},
   "source": [
    "# Section 6. N차원 배열의 병합"
   ]
  },
  {
   "cell_type": "markdown",
   "id": "6ea057de",
   "metadata": {},
   "source": [
    "## 6-1. 배열에 원소 추가 및 삭제"
   ]
  },
  {
   "cell_type": "code",
   "execution_count": 208,
   "id": "33a59500",
   "metadata": {},
   "outputs": [
    {
     "name": "stdout",
     "output_type": "stream",
     "text": [
      "[1, 2, 50, 3, 4, 5, 6, 7, 8]\n",
      "[ 1  2 50  3  4  5  6  7  8]\n"
     ]
    }
   ],
   "source": [
    "# python list\n",
    "arr = [1,2,3,4,5,6,7,8]\n",
    "arr.insert(2, 50)\n",
    "print(arr)\n",
    "\n",
    "# 1차원 배열\n",
    "arr = np.arange(1, 9)\n",
    "arr = np.insert(arr, 2, 50)\n",
    "print(arr)"
   ]
  },
  {
   "cell_type": "code",
   "execution_count": 212,
   "id": "b4cda329",
   "metadata": {},
   "outputs": [
    {
     "name": "stdout",
     "output_type": "stream",
     "text": [
      "[[ 1  2  3  4]\n",
      " [ 5  6  7  8]\n",
      " [50 50 50 50]\n",
      " [ 9 10 11 12]]\n"
     ]
    }
   ],
   "source": [
    "# 2차원 배열\n",
    "arr = np.arange(1, 13).reshape(3, 4)\n",
    "arr = np.insert(arr, 2, 50, axis=0)\n",
    "print(arr)"
   ]
  },
  {
   "cell_type": "code",
   "execution_count": 213,
   "id": "3f407a3e",
   "metadata": {},
   "outputs": [
    {
     "name": "stdout",
     "output_type": "stream",
     "text": [
      "[[ 1  2 50  3  4]\n",
      " [ 5  6 50  7  8]\n",
      " [ 9 10 50 11 12]]\n"
     ]
    }
   ],
   "source": [
    "# 2차원 배열\n",
    "arr = np.arange(1, 13).reshape(3, 4)\n",
    "arr = np.insert(arr, 2, 50, axis=1)\n",
    "print(arr)"
   ]
  },
  {
   "cell_type": "code",
   "execution_count": 214,
   "id": "d2ba3e79",
   "metadata": {},
   "outputs": [
    {
     "name": "stdout",
     "output_type": "stream",
     "text": [
      "[ 1  2 50  3  4  5  6  7  8  9 10 11 12]\n"
     ]
    }
   ],
   "source": [
    "# 2차원 배열\n",
    "arr = np.arange(1, 13).reshape(3, 4)\n",
    "arr = np.insert(arr, 2, 50)\n",
    "print(arr)"
   ]
  },
  {
   "cell_type": "code",
   "execution_count": 216,
   "id": "9227f654",
   "metadata": {},
   "outputs": [
    {
     "name": "stdout",
     "output_type": "stream",
     "text": [
      "[[ 1  2  3  4]\n",
      " [ 5  6  7  8]\n",
      " [ 9 10 11 12]]\n",
      "[[1 2 3 4]\n",
      " [5 6 7 8]]\n"
     ]
    }
   ],
   "source": [
    "# delete\n",
    "arr = np.arange(1,13).reshape(3,4)\n",
    "print(arr)\n",
    "\n",
    "arr = np.delete(arr, 2, axis=0)\n",
    "print(arr)"
   ]
  },
  {
   "cell_type": "code",
   "execution_count": 218,
   "id": "81f4328d",
   "metadata": {},
   "outputs": [
    {
     "name": "stdout",
     "output_type": "stream",
     "text": [
      "[[ 1  2  3  4]\n",
      " [ 5  6  7  8]\n",
      " [ 9 10 11 12]]\n",
      "[[ 1  2  4]\n",
      " [ 5  6  8]\n",
      " [ 9 10 12]]\n"
     ]
    }
   ],
   "source": [
    "# delete\n",
    "arr = np.arange(1,13).reshape(3,4)\n",
    "print(arr)\n",
    "\n",
    "arr = np.delete(arr, 2, axis=1)\n",
    "print(arr)"
   ]
  },
  {
   "cell_type": "code",
   "execution_count": 219,
   "id": "e9da7dfd",
   "metadata": {},
   "outputs": [
    {
     "name": "stdout",
     "output_type": "stream",
     "text": [
      "[[ 1  2  3  4]\n",
      " [ 5  6  7  8]\n",
      " [ 9 10 11 12]]\n",
      "[ 1  2  4  5  6  7  8  9 10 11 12]\n"
     ]
    }
   ],
   "source": [
    "# delete\n",
    "arr = np.arange(1,13).reshape(3,4)\n",
    "print(arr)\n",
    "\n",
    "arr = np.delete(arr, 2)\n",
    "print(arr)"
   ]
  },
  {
   "cell_type": "markdown",
   "id": "844d1160",
   "metadata": {},
   "source": [
    "## 6-2. 배열 간의 병합"
   ]
  },
  {
   "cell_type": "code",
   "execution_count": 225,
   "id": "0bf8fecf",
   "metadata": {},
   "outputs": [
    {
     "name": "stdout",
     "output_type": "stream",
     "text": [
      "[[ 1  2  3  4]\n",
      " [ 5  6  7  8]\n",
      " [ 9 10 11 12]]\n",
      "[[13 14 15 16]\n",
      " [17 18 19 20]\n",
      " [21 22 23 24]]\n",
      "\n",
      "[[ 1  2  3  4]\n",
      " [ 5  6  7  8]\n",
      " [ 9 10 11 12]\n",
      " [13 14 15 16]\n",
      " [17 18 19 20]\n",
      " [21 22 23 24]]\n",
      "\n",
      "[[ 1  2  3  4 13 14 15 16]\n",
      " [ 5  6  7  8 17 18 19 20]\n",
      " [ 9 10 11 12 21 22 23 24]]\n",
      "\n"
     ]
    }
   ],
   "source": [
    "# append()\n",
    "arr1 = np.arange(1,13).reshape(3,4)\n",
    "arr2 = np.arange(13,25).reshape(3,4)\n",
    "\n",
    "print(arr1)\n",
    "print(arr2, end='\\n\\n')\n",
    "\n",
    "# axis=0\n",
    "arr3 =np.append(arr1, arr2, axis=0)\n",
    "print(arr3, end='\\n\\n')\n",
    "\n",
    "# axis=1\n",
    "arr3 =np.append(arr1, arr2, axis=1)\n",
    "print(arr3, end='\\n\\n')"
   ]
  },
  {
   "cell_type": "code",
   "execution_count": 226,
   "id": "327dfdbb",
   "metadata": {},
   "outputs": [
    {
     "name": "stdout",
     "output_type": "stream",
     "text": [
      "[[ 1  2  3]\n",
      " [ 4  5  6]\n",
      " [ 7  8  9]\n",
      " [10 11 12]]\n",
      "[[ 1  2  3  7  8  9]\n",
      " [ 4  5  6 10 11 12]]\n"
     ]
    }
   ],
   "source": [
    "# vstack(), hstack()\n",
    "arr1 = np.arange(1,7).reshape(2,3)\n",
    "arr2 = np.arange(7,13).reshape(2,3)\n",
    "\n",
    "arr3 = np.vstack((arr1, arr2)) # axis = 0\n",
    "print(arr3)\n",
    "\n",
    "arr3 = np.hstack((arr1, arr2)) # axis = 1\n",
    "print(arr3)"
   ]
  },
  {
   "cell_type": "code",
   "execution_count": 228,
   "id": "d0266ea8",
   "metadata": {},
   "outputs": [
    {
     "name": "stdout",
     "output_type": "stream",
     "text": [
      "[[ 1  2  3]\n",
      " [ 4  5  6]\n",
      " [ 7  8  9]\n",
      " [10 11 12]]\n",
      "[[ 1  2  3  7  8  9]\n",
      " [ 4  5  6 10 11 12]]\n"
     ]
    }
   ],
   "source": [
    "# concatenate()\n",
    "arr3 = np.concatenate([arr1, arr2], axis=0)\n",
    "print(arr3)\n",
    "\n",
    "arr3 = np.concatenate([arr1, arr2], axis=1)\n",
    "print(arr3)"
   ]
  },
  {
   "cell_type": "markdown",
   "id": "d34a8307",
   "metadata": {},
   "source": [
    "## 6-3. 배열 분할"
   ]
  },
  {
   "cell_type": "code",
   "execution_count": 240,
   "id": "f72e5a50",
   "metadata": {},
   "outputs": [
    {
     "name": "stdout",
     "output_type": "stream",
     "text": [
      "[[ 1  2  3  4]\n",
      " [ 5  6  7  8]\n",
      " [ 9 10 11 12]]\n",
      "[array([[1, 2, 3, 4]]), array([[5, 6, 7, 8]]), array([[ 9, 10, 11, 12]])]\n",
      "[array([[ 1,  2],\n",
      "       [ 5,  6],\n",
      "       [ 9, 10]]), array([[ 3,  4],\n",
      "       [ 7,  8],\n",
      "       [11, 12]])]\n"
     ]
    }
   ],
   "source": [
    "# 2차원 배열\n",
    "arr = np.arange(1,13).reshape(3,4)\n",
    "print(arr)\n",
    "\n",
    "\n",
    "# 분할 시 주의 : shape의 약수로 분할 해야 함\n",
    "# vsplit() => axis = 0\n",
    "arr_vsplit = np.vsplit(arr, 3)\n",
    "print(arr_vsplit)\n",
    "\n",
    "# hsplit() => axis = 1\n",
    "arr_hsplit = np.hsplit(arr, 2)\n",
    "print(arr_hsplit)"
   ]
  },
  {
   "cell_type": "code",
   "execution_count": 241,
   "id": "f57b59d3",
   "metadata": {},
   "outputs": [
    {
     "name": "stdout",
     "output_type": "stream",
     "text": [
      "[[[7 3 1 6 6 9 6 9]\n",
      "  [6 0 0 2 9 6 0 6]\n",
      "  [7 0 3 9 0 3 4 7]\n",
      "  [5 3 8 8 0 6 7 9]\n",
      "  [5 4 9 5 2 5 6 6]\n",
      "  [8 7 7 7 2 6 0 5]]\n",
      "\n",
      " [[2 1 8 5 9 4 9 1]\n",
      "  [2 0 4 7 0 6 2 4]\n",
      "  [3 6 7 6 3 0 6 4]\n",
      "  [7 6 2 9 5 9 9 9]\n",
      "  [8 6 4 2 9 4 0 0]\n",
      "  [3 4 9 3 9 1 2 5]]\n",
      "\n",
      " [[4 0 8 2 3 9 9 4]\n",
      "  [4 8 2 1 6 3 8 9]\n",
      "  [7 0 5 2 2 8 5 0]\n",
      "  [5 9 8 6 6 0 4 7]\n",
      "  [3 0 1 6 0 6 1 6]\n",
      "  [4 2 5 4 6 2 9 2]]\n",
      "\n",
      " [[7 5 0 7 8 8 8 0]\n",
      "  [7 2 0 7 1 1 9 5]\n",
      "  [1 5 9 6 4 9 8 7]\n",
      "  [5 1 8 0 5 3 9 0]\n",
      "  [4 8 6 2 4 3 2 0]\n",
      "  [0 4 2 5 0 0 3 8]]]\n"
     ]
    }
   ],
   "source": [
    "# 3차원 배열\n",
    "arr = np.random.randint(0,10,(4,6,8))\n",
    "print(arr)"
   ]
  },
  {
   "cell_type": "code",
   "execution_count": 242,
   "id": "a19c6e69",
   "metadata": {},
   "outputs": [
    {
     "name": "stdout",
     "output_type": "stream",
     "text": [
      "[array([[[7, 3, 1, 6, 6, 9, 6, 9],\n",
      "        [6, 0, 0, 2, 9, 6, 0, 6],\n",
      "        [7, 0, 3, 9, 0, 3, 4, 7],\n",
      "        [5, 3, 8, 8, 0, 6, 7, 9],\n",
      "        [5, 4, 9, 5, 2, 5, 6, 6],\n",
      "        [8, 7, 7, 7, 2, 6, 0, 5]],\n",
      "\n",
      "       [[2, 1, 8, 5, 9, 4, 9, 1],\n",
      "        [2, 0, 4, 7, 0, 6, 2, 4],\n",
      "        [3, 6, 7, 6, 3, 0, 6, 4],\n",
      "        [7, 6, 2, 9, 5, 9, 9, 9],\n",
      "        [8, 6, 4, 2, 9, 4, 0, 0],\n",
      "        [3, 4, 9, 3, 9, 1, 2, 5]]]), array([[[4, 0, 8, 2, 3, 9, 9, 4],\n",
      "        [4, 8, 2, 1, 6, 3, 8, 9],\n",
      "        [7, 0, 5, 2, 2, 8, 5, 0],\n",
      "        [5, 9, 8, 6, 6, 0, 4, 7],\n",
      "        [3, 0, 1, 6, 0, 6, 1, 6],\n",
      "        [4, 2, 5, 4, 6, 2, 9, 2]],\n",
      "\n",
      "       [[7, 5, 0, 7, 8, 8, 8, 0],\n",
      "        [7, 2, 0, 7, 1, 1, 9, 5],\n",
      "        [1, 5, 9, 6, 4, 9, 8, 7],\n",
      "        [5, 1, 8, 0, 5, 3, 9, 0],\n",
      "        [4, 8, 6, 2, 4, 3, 2, 0],\n",
      "        [0, 4, 2, 5, 0, 0, 3, 8]]])]\n"
     ]
    }
   ],
   "source": [
    "arr_vsplit =np.vsplit(arr, 2)\n",
    "print(arr_vsplit)"
   ]
  },
  {
   "cell_type": "code",
   "execution_count": 243,
   "id": "b76fdb75",
   "metadata": {},
   "outputs": [
    {
     "name": "stdout",
     "output_type": "stream",
     "text": [
      "[array([[[7, 3, 1, 6, 6, 9, 6, 9],\n",
      "        [6, 0, 0, 2, 9, 6, 0, 6],\n",
      "        [7, 0, 3, 9, 0, 3, 4, 7]],\n",
      "\n",
      "       [[2, 1, 8, 5, 9, 4, 9, 1],\n",
      "        [2, 0, 4, 7, 0, 6, 2, 4],\n",
      "        [3, 6, 7, 6, 3, 0, 6, 4]],\n",
      "\n",
      "       [[4, 0, 8, 2, 3, 9, 9, 4],\n",
      "        [4, 8, 2, 1, 6, 3, 8, 9],\n",
      "        [7, 0, 5, 2, 2, 8, 5, 0]],\n",
      "\n",
      "       [[7, 5, 0, 7, 8, 8, 8, 0],\n",
      "        [7, 2, 0, 7, 1, 1, 9, 5],\n",
      "        [1, 5, 9, 6, 4, 9, 8, 7]]]), array([[[5, 3, 8, 8, 0, 6, 7, 9],\n",
      "        [5, 4, 9, 5, 2, 5, 6, 6],\n",
      "        [8, 7, 7, 7, 2, 6, 0, 5]],\n",
      "\n",
      "       [[7, 6, 2, 9, 5, 9, 9, 9],\n",
      "        [8, 6, 4, 2, 9, 4, 0, 0],\n",
      "        [3, 4, 9, 3, 9, 1, 2, 5]],\n",
      "\n",
      "       [[5, 9, 8, 6, 6, 0, 4, 7],\n",
      "        [3, 0, 1, 6, 0, 6, 1, 6],\n",
      "        [4, 2, 5, 4, 6, 2, 9, 2]],\n",
      "\n",
      "       [[5, 1, 8, 0, 5, 3, 9, 0],\n",
      "        [4, 8, 6, 2, 4, 3, 2, 0],\n",
      "        [0, 4, 2, 5, 0, 0, 3, 8]]])]\n"
     ]
    }
   ],
   "source": [
    "arr_hsplit =np.hsplit(arr, 2)\n",
    "print(arr_hsplit)"
   ]
  },
  {
   "cell_type": "markdown",
   "id": "cf5ed48f",
   "metadata": {},
   "source": [
    "# Section 7. 실습"
   ]
  },
  {
   "cell_type": "markdown",
   "id": "4beb1d6f",
   "metadata": {},
   "source": [
    "## Section 7-1. 실습 예제 1~3"
   ]
  },
  {
   "cell_type": "markdown",
   "id": "bc62e7ef",
   "metadata": {},
   "source": [
    "### 실습예제 1 : 원소가 모두 3인 (3,4,5) 형태의 numpy.array를 출력"
   ]
  },
  {
   "cell_type": "code",
   "execution_count": 244,
   "id": "1c318d9a",
   "metadata": {},
   "outputs": [
    {
     "data": {
      "text/plain": [
       "array([[[3, 3, 3, 3, 3],\n",
       "        [3, 3, 3, 3, 3],\n",
       "        [3, 3, 3, 3, 3],\n",
       "        [3, 3, 3, 3, 3]],\n",
       "\n",
       "       [[3, 3, 3, 3, 3],\n",
       "        [3, 3, 3, 3, 3],\n",
       "        [3, 3, 3, 3, 3],\n",
       "        [3, 3, 3, 3, 3]],\n",
       "\n",
       "       [[3, 3, 3, 3, 3],\n",
       "        [3, 3, 3, 3, 3],\n",
       "        [3, 3, 3, 3, 3],\n",
       "        [3, 3, 3, 3, 3]]])"
      ]
     },
     "execution_count": 244,
     "metadata": {},
     "output_type": "execute_result"
    }
   ],
   "source": [
    "arr = np.full((3,4,5),3)\n",
    "arr"
   ]
  },
  {
   "cell_type": "markdown",
   "id": "a509ba2b",
   "metadata": {},
   "source": [
    "### 실습예제 2: 정수 -50~50의 범위 안의 난수로 이루어진 (4,5) 형태의 numpy.array를 출력하고 행을 기준으로 오름차순 정렬한 결과와 전채 배열을 1차원 배열로 변경하여 오름차순 정렬한 결과를 출력"
   ]
  },
  {
   "cell_type": "code",
   "execution_count": 252,
   "id": "44838595",
   "metadata": {},
   "outputs": [
    {
     "name": "stdout",
     "output_type": "stream",
     "text": [
      "[[-49  -2  38 -28 -16]\n",
      " [ 44 -29  18  17  -2]\n",
      " [-32  47 -39 -39   2]\n",
      " [ 26  18  -5  14  39]]\n",
      "[[-49 -29 -39 -39 -16]\n",
      " [-32  -2  -5 -28  -2]\n",
      " [ 26  18  18  14   2]\n",
      " [ 44  47  38  17  39]]\n",
      "[-49 -39 -39 -32 -29 -28 -16  -5  -2  -2   2  14  17  18  18  26  38  39\n",
      "  44  47]\n"
     ]
    }
   ],
   "source": [
    "arr = np.random.randint(-50,50, (4,5))\n",
    "print(arr)\n",
    "print(np.sort(arr, axis=0))\n",
    "#arr = arr.ravel()\n",
    "#print(np.sort(arr))\n",
    "print(np.sort(arr, axis=None))"
   ]
  },
  {
   "cell_type": "markdown",
   "id": "d00789ed",
   "metadata": {},
   "source": [
    "### 실습예제 3: 다음과 같은 파이썬 list가 존재한다. list 안에있는 numpy.array의 원소들의 평균값과 표준편차, 중앙값을 순서대로 구하여 구한 순서대로 원소가 이루어진 새로운 list를 구성하고 출력\n",
    "```#python\n",
    "py_list = [\n",
    "    np.full(3,8),\n",
    "    np.array([33,-15,26]),\n",
    "    np.linspace(17,26,3)\n",
    "]\n",
    "\n",
    "```"
   ]
  },
  {
   "cell_type": "code",
   "execution_count": 261,
   "id": "4fa02b58",
   "metadata": {},
   "outputs": [
    {
     "name": "stdout",
     "output_type": "stream",
     "text": [
      "[8.0, 0.0, 8.0, 14.666666666666666, 21.171259344267224, 26.0, 21.5, 3.6742346141747673, 21.5]\n"
     ]
    }
   ],
   "source": [
    "py_list = [\n",
    "    np.full(3,8),\n",
    "    np.array([33,-15,26]),\n",
    "    np.linspace(17,26,3)\n",
    "]\n",
    "\n",
    "result_arr = []\n",
    "for i in py_list:\n",
    "    result_arr.append(np.mean(i))\n",
    "    result_arr.append(np.std(i))\n",
    "    result_arr.append(np.median(i))\n",
    "\n",
    "print(result_arr)"
   ]
  },
  {
   "cell_type": "markdown",
   "id": "829aa43f",
   "metadata": {},
   "source": [
    "## Section 7-2. 실습 예제 4~6"
   ]
  },
  {
   "cell_type": "markdown",
   "id": "0f9ca492",
   "metadata": {},
   "source": [
    "### 실습예제 4: 다음과 같은 numpy.array가 존재한다. 이 배열을 행을 기준으로 3개의 배열로 분할하여 분할된 각 배열의 원소들을 제곱한 결과를 다시 원본 배열에 행을 기준으로 병합 하시오 (단, 마지막 출력 결과는 원본 배열과 차원이 같아야 한다.)\n",
    "```python\n",
    "arr = np.arange(2, 20, 2).reshape((3,3))\n",
    "```"
   ]
  },
  {
   "cell_type": "code",
   "execution_count": 288,
   "id": "35e9a16f",
   "metadata": {},
   "outputs": [
    {
     "name": "stdout",
     "output_type": "stream",
     "text": [
      "[[ 2  4  6]\n",
      " [ 8 10 12]\n",
      " [14 16 18]] 2\n",
      "\n",
      "[[  2   4   6]\n",
      " [  8  10  12]\n",
      " [ 14  16  18]\n",
      " [  4  16  36]\n",
      " [ 64 100 144]\n",
      " [196 256 324]] 2\n"
     ]
    }
   ],
   "source": [
    "arr = np.arange(2, 20, 2).reshape((3,3))\n",
    "print(arr, arr.ndim)\n",
    "print()\n",
    "s1 = np.vsplit(arr,3)\n",
    "s2 = np.square(s1)\n",
    "s3 = np.squeeze(s2)\n",
    "result_arr = np.vstack((arr, s3))\n",
    "print(result_arr, result_arr.ndim)"
   ]
  },
  {
   "cell_type": "markdown",
   "id": "4b5495cc",
   "metadata": {},
   "source": [
    "### 실습예제 5: 삼각함수 특수각(0,30,60, 90)을 numpy.array로 생성한후 특수각에 해당하는 sin, cos, tan 값을 각가 구하여 파이썬에 담은 다음 해당 list 에 들어 있는 값들을 출력 ( 단, 값이 무한대라면 \"INF\" 문자열을 출력)"
   ]
  },
  {
   "cell_type": "code",
   "execution_count": 304,
   "id": "59d4c748",
   "metadata": {},
   "outputs": [
    {
     "name": "stdout",
     "output_type": "stream",
     "text": [
      "0.0\n",
      "0.49999999999999994\n",
      "0.8660254037844386\n",
      "1.0\n",
      "\n",
      "1.0\n",
      "0.8660254037844387\n",
      "0.5000000000000001\n",
      "6.123233995736766e-17\n",
      "\n",
      "0.0\n",
      "0.5773502691896257\n",
      "1.7320508075688767\n",
      "INF\n",
      "\n"
     ]
    }
   ],
   "source": [
    "arr = np.array([0,30,60, 90])\n",
    "arr = arr * np.pi / 180 # degree x Pi / 180\n",
    "\n",
    "lst = []\n",
    "lst.append(np.sin(arr))\n",
    "lst.append(np.cos(arr))\n",
    "lst.append(np.tan(arr))\n",
    "\n",
    "for value_lst in lst:\n",
    "    for value in value_lst:\n",
    "        if value > 999999999:\n",
    "            print(\"INF\")\n",
    "            continue;\n",
    "        print(value)\n",
    "    print()"
   ]
  },
  {
   "cell_type": "markdown",
   "id": "b1f8e0fe",
   "metadata": {},
   "source": [
    "### 실습예제 6: numpy.array를 이용하여 다음과 같은 패턴을 출력(단, 출력시 반복문을 사용하여 출력\n",
    "```python\n",
    "0 1 0 1 0 1 0\n",
    "1 0 1 0 1 0 1\n",
    "0 1 0 1 0 1 0\n",
    "1 0 1 0 1 0 1\n",
    "0 1 0 1 0 1 0\n",
    "1 0 1 0 1 0 1\n",
    "0 1 0 1 0 1 0\n",
    "```"
   ]
  },
  {
   "cell_type": "code",
   "execution_count": 322,
   "id": "d474d8fe",
   "metadata": {},
   "outputs": [
    {
     "name": "stdout",
     "output_type": "stream",
     "text": [
      "0 1 0 1 0 1 0 \n",
      "1 0 1 0 1 0 1 \n",
      "0 1 0 1 0 1 0 \n",
      "1 0 1 0 1 0 1 \n",
      "0 1 0 1 0 1 0 \n",
      "1 0 1 0 1 0 1 \n",
      "0 1 0 1 0 1 0 \n"
     ]
    }
   ],
   "source": [
    "arr = np.zeros((7,7),dtype=int)\n",
    "# arr =np.full(7,7)\n",
    "arr[::2, 1::2] = 1\n",
    "arr[1::2, ::2] = 1\n",
    "for row in range(7):\n",
    "    for col in range(7):\n",
    "        print(arr[row, col], end=' ')\n",
    "    print()"
   ]
  },
  {
   "cell_type": "code",
   "execution_count": null,
   "id": "4e508cdb",
   "metadata": {},
   "outputs": [],
   "source": []
  }
 ],
 "metadata": {
  "kernelspec": {
   "display_name": "Python 3 (ipykernel)",
   "language": "python",
   "name": "python3"
  },
  "language_info": {
   "codemirror_mode": {
    "name": "ipython",
    "version": 3
   },
   "file_extension": ".py",
   "mimetype": "text/x-python",
   "name": "python",
   "nbconvert_exporter": "python",
   "pygments_lexer": "ipython3",
   "version": "3.9.7"
  }
 },
 "nbformat": 4,
 "nbformat_minor": 5
}
