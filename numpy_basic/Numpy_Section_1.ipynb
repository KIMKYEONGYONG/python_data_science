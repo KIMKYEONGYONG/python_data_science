{
 "cells": [
  {
   "cell_type": "code",
   "execution_count": 1,
   "id": "6a83ee93",
   "metadata": {},
   "outputs": [],
   "source": [
    "import numpy as np"
   ]
  },
  {
   "cell_type": "markdown",
   "id": "a4a8e493",
   "metadata": {},
   "source": [
    "# Section 1. N차원 배열 생성"
   ]
  },
  {
   "cell_type": "markdown",
   "id": "27932a10",
   "metadata": {},
   "source": [
    "## 1-1. N차원 배열(ndarray) 생성하기"
   ]
  },
  {
   "cell_type": "code",
   "execution_count": 6,
   "id": "291275bc",
   "metadata": {},
   "outputs": [
    {
     "name": "stdout",
     "output_type": "stream",
     "text": [
      "[1 2 3]\n",
      "[[1 2 3]\n",
      " [4 5 6]]\n"
     ]
    }
   ],
   "source": [
    "# 1차원 배열\n",
    "arr = np.array([1,2,3])\n",
    "print(arr)\n",
    "\n",
    "# 2차원 배열\n",
    "arr_2 = np.array([[1,2,3]\n",
    "                ,[4,5,6]])\n",
    "print(arr_2)"
   ]
  },
  {
   "cell_type": "code",
   "execution_count": 7,
   "id": "9eaa42ce",
   "metadata": {},
   "outputs": [
    {
     "data": {
      "text/plain": [
       "numpy.ndarray"
      ]
     },
     "execution_count": 7,
     "metadata": {},
     "output_type": "execute_result"
    }
   ],
   "source": [
    "type([1,2,3])\n",
    "type(arr)"
   ]
  },
  {
   "cell_type": "code",
   "execution_count": 8,
   "id": "4f8a2169",
   "metadata": {},
   "outputs": [
    {
     "name": "stdout",
     "output_type": "stream",
     "text": [
      "[4 5 6]\n",
      "[1 2 3]\n",
      "[[1 2 3]\n",
      " [4 5 6]]\n"
     ]
    }
   ],
   "source": [
    "tp1 = (4,5,6)\n",
    "arr = np.array(tp1)\n",
    "print(arr)\n",
    "\n",
    "lst = [1,2,3]\n",
    "arr = np.array(lst)\n",
    "print(arr)\n",
    "\n",
    "lst2 = [[1,2,3],[4,5,6]]\n",
    "arr = np.array(lst2)\n",
    "print(arr)"
   ]
  },
  {
   "cell_type": "code",
   "execution_count": 10,
   "id": "45bb236b",
   "metadata": {},
   "outputs": [
    {
     "name": "stdout",
     "output_type": "stream",
     "text": [
      "(3,) (2, 3)\n",
      "1 2\n",
      "3 6\n"
     ]
    }
   ],
   "source": [
    "#shape\n",
    "arr1 = np.array([1,2,3])\n",
    "arr2 = np.array([[1,2,3],[4,5,6]])\n",
    "\n",
    "print(arr1.shape, arr2.shape)\n",
    "\n",
    "# ndim\n",
    "print(arr1.ndim, arr2.ndim)\n",
    "\n",
    "# size\n",
    "print(arr1.size, arr2.size)"
   ]
  },
  {
   "cell_type": "markdown",
   "id": "523feeae",
   "metadata": {},
   "source": [
    "## 1-2. N차원 배열의 데이터 타입"
   ]
  },
  {
   "cell_type": "code",
   "execution_count": 14,
   "id": "7b961782",
   "metadata": {},
   "outputs": [
    {
     "name": "stdout",
     "output_type": "stream",
     "text": [
      "[1. 2. 3.] float64\n"
     ]
    }
   ],
   "source": [
    "arr = np.array([1,2,3],dtype=np.float64)\n",
    "print(arr, arr.dtype)"
   ]
  },
  {
   "cell_type": "code",
   "execution_count": 16,
   "id": "3b45db5a",
   "metadata": {},
   "outputs": [
    {
     "name": "stdout",
     "output_type": "stream",
     "text": [
      "[False  True  True] bool\n"
     ]
    }
   ],
   "source": [
    "arr = np.array([0,1,1],dtype=np.bool_)\n",
    "print(arr, arr.dtype)"
   ]
  },
  {
   "cell_type": "code",
   "execution_count": 17,
   "id": "1b3c3d35",
   "metadata": {},
   "outputs": [
    {
     "name": "stdout",
     "output_type": "stream",
     "text": [
      "[1 2 3] int32\n",
      "[1. 2. 3.] float32\n"
     ]
    }
   ],
   "source": [
    "arr = np.array([1,2,3])\n",
    "print(arr, arr.dtype)\n",
    "\n",
    "arr = arr.astype(np.float32)\n",
    "print(arr, arr.dtype)"
   ]
  },
  {
   "cell_type": "code",
   "execution_count": 25,
   "id": "109e0c80",
   "metadata": {},
   "outputs": [
    {
     "name": "stdout",
     "output_type": "stream",
     "text": [
      "['1' '2' '3.4' '65'] <U32\n",
      "[ 1  2  3 65] int32\n",
      "['1' '2' '3.4' '문A'] <U32\n"
     ]
    }
   ],
   "source": [
    "# 데이터 타입이 혼재하는 경우\n",
    "arr = np.array([1,2,3.4,\"65\"])\n",
    "print(arr, arr.dtype)\n",
    "\n",
    "arr = np.array([1,2,3.4,\"65\"],dtype=int)\n",
    "print(arr, arr.dtype)\n",
    "\n",
    "arr2 = np.array([1,2,3.4,\"문A\"])\n",
    "print(arr2, arr2.dtype)"
   ]
  },
  {
   "cell_type": "markdown",
   "id": "35bdf0d7",
   "metadata": {},
   "source": [
    "## 정해진 형식의 N차원 배열 생성하기"
   ]
  },
  {
   "cell_type": "code",
   "execution_count": 33,
   "id": "5afd06a9",
   "metadata": {},
   "outputs": [
    {
     "name": "stdout",
     "output_type": "stream",
     "text": [
      "[[0. 0.]\n",
      " [0. 0.]]\n",
      "[[1. 1. 1. 1. 1.]\n",
      " [1. 1. 1. 1. 1.]\n",
      " [1. 1. 1. 1. 1.]]\n",
      "[[5 5 5]\n",
      " [5 5 5]]\n",
      "[[1. 0. 0. 0.]\n",
      " [0. 1. 0. 0.]\n",
      " [0. 0. 1. 0.]]\n",
      "[[1. 0. 0.]\n",
      " [0. 1. 0.]\n",
      " [0. 0. 1.]]\n"
     ]
    }
   ],
   "source": [
    "# np.zeros()\n",
    "arr = np.zeros([2,2])\n",
    "print(arr)\n",
    "\n",
    "# np.ones()\n",
    "arr = np.ones([3,5])\n",
    "print(arr)\n",
    "\n",
    "# np.full()\n",
    "arr = np.full([2,3],5)\n",
    "print(arr)\n",
    "\n",
    "# np.eye()\n",
    "arr = np.eye(3,4, k=0)\n",
    "print(arr)\n",
    "\n",
    "arr = np.eye(3) #정방행렬의 단위행렬\n",
    "print(arr)"
   ]
  },
  {
   "cell_type": "code",
   "execution_count": 34,
   "id": "73814064",
   "metadata": {},
   "outputs": [
    {
     "name": "stdout",
     "output_type": "stream",
     "text": [
      "[[0 0 0]\n",
      " [0 0 0]]\n",
      "[[1 1 1]\n",
      " [1 1 1]]\n",
      "[[9 9 9]\n",
      " [9 9 9]]\n"
     ]
    }
   ],
   "source": [
    "arr = np.array([[1,2,3]\n",
    "               ,[4,5,6]])\n",
    "\n",
    "# np.zeros_like()\n",
    "arr_z = np.zeros_like(arr)\n",
    "print(arr_z)\n",
    "\n",
    "# np.ones_like()\n",
    "arr_o = np.ones_like(arr)\n",
    "print(arr_o)\n",
    "\n",
    "# np.full_like()\n",
    "arr_f = np.full_like(arr, 9)\n",
    "print(arr_f)"
   ]
  },
  {
   "cell_type": "markdown",
   "id": "8c07e546",
   "metadata": {},
   "source": [
    "## 1-4. 특정 범위의 값을 가지는 N차원 배열 생성하기"
   ]
  },
  {
   "cell_type": "code",
   "execution_count": 35,
   "id": "4b1e8083",
   "metadata": {},
   "outputs": [
    {
     "name": "stdout",
     "output_type": "stream",
     "text": [
      "[0, 2, 4, 6, 8]\n"
     ]
    }
   ],
   "source": [
    "lst = list(range(0,9,2))\n",
    "print(lst)"
   ]
  },
  {
   "cell_type": "code",
   "execution_count": 40,
   "id": "084669ac",
   "metadata": {},
   "outputs": [
    {
     "name": "stdout",
     "output_type": "stream",
     "text": [
      "[0 1 2 3 4 5 6 7 8]\n",
      "[ 3  4  5  6  7  8  9 10 11 12]\n",
      "[0 2 4 6 8]\n"
     ]
    }
   ],
   "source": [
    "arr = np.arange(9)\n",
    "print(arr)\n",
    "\n",
    "arr = np.arange(3,13)\n",
    "print(arr)\n",
    "\n",
    "arr = np.arange(0,9,2) # start, stop, step\n",
    "print(arr)"
   ]
  },
  {
   "cell_type": "code",
   "execution_count": 41,
   "id": "7177b5bd",
   "metadata": {},
   "outputs": [
    {
     "name": "stdout",
     "output_type": "stream",
     "text": [
      "[  0.  10.  20.  30.  40.  50.  60.  70.  80.  90. 100.]\n"
     ]
    }
   ],
   "source": [
    "# np.linspace() \n",
    "arr = np.linspace(0, 100, 11) # 0에서 100사이의 11개 원소를 균등한 간격으로\n",
    "print(arr)"
   ]
  },
  {
   "cell_type": "code",
   "execution_count": 47,
   "id": "d44bb33f",
   "metadata": {},
   "outputs": [
    {
     "name": "stdout",
     "output_type": "stream",
     "text": [
      "[   2.    4.    8.   16.   32.   64.  128.  256.  512. 1024.]\n"
     ]
    }
   ],
   "source": [
    "# np.logsapace()\n",
    "arr = np.logspace(1, 10, 10, base=2) #1부터 10까지 10개의 원소를 간격으로 , base는 밑 \n",
    "print(arr)"
   ]
  },
  {
   "cell_type": "code",
   "execution_count": 49,
   "id": "75c0e7cb",
   "metadata": {},
   "outputs": [],
   "source": [
    "import matplotlib.pyplot as plt"
   ]
  },
  {
   "cell_type": "markdown",
   "id": "ee23be08",
   "metadata": {},
   "source": [
    "## 1-5. 난수로 이루어진 N차원 배열 생성하기"
   ]
  },
  {
   "cell_type": "code",
   "execution_count": 51,
   "id": "51caa700",
   "metadata": {},
   "outputs": [
    {
     "name": "stdout",
     "output_type": "stream",
     "text": [
      "[-0.65629496  0.86632419 -1.806404    0.09648722  0.74531694 -0.59975199\n",
      "  0.23759627  0.37082868 -0.77707634  0.40408124]\n",
      "[[-0.58966093 -0.85125156 -0.30556319]\n",
      " [ 0.87554685 -0.20903145 -0.39854492]]\n"
     ]
    }
   ],
   "source": [
    "# np.random.normal()\n",
    "\n",
    "arr = np.random.normal(0,1,10) # 평균, 표준편차, 사이즈\n",
    "print(arr)\n",
    "\n",
    "arr = np.random.normal(0,1,(2,3)) # 평균, 표준편차, 사이즈\n",
    "print(arr)"
   ]
  },
  {
   "cell_type": "code",
   "execution_count": 56,
   "id": "0221d3b0",
   "metadata": {},
   "outputs": [
    {
     "data": {
      "image/png": "[encoded data removed]",
      "text/plain": [
       "<Figure size 432x288 with 1 Axes>"
      ]
     },
     "metadata": {
      "needs_background": "light"
     },
     "output_type": "display_data"
    }
   ],
   "source": [
    "arr = np.random.normal(0,1,1000000)\n",
    "plt.hist(arr, bins=100) # bins : 계급구간\n",
    "plt.show()"
   ]
  },
  {
   "cell_type": "code",
   "execution_count": 57,
   "id": "cd9a00c4",
   "metadata": {},
   "outputs": [
    {
     "data": {
      "image/png": "[encoded data removed]",
      "text/plain": [
       "<Figure size 432x288 with 1 Axes>"
      ]
     },
     "metadata": {
      "needs_background": "light"
     },
     "output_type": "display_data"
    }
   ],
   "source": [
    "# np.random.rand()\n",
    "\n",
    "arr = np.random.rand(1000) #표본갯수\n",
    "plt.hist(arr, bins=100)\n",
    "plt.show()"
   ]
  },
  {
   "cell_type": "code",
   "execution_count": 61,
   "id": "b6e60b27",
   "metadata": {},
   "outputs": [
    {
     "data": {
      "image/png": "[encoded data removed]",
      "text/plain": [
       "<Figure size 432x288 with 1 Axes>"
      ]
     },
     "metadata": {
      "needs_background": "light"
     },
     "output_type": "display_data"
    }
   ],
   "source": [
    "# np.random.randn() 가우시안 분포 -1~1사의 정규분포\n",
    "arr =np.random.randn(1000)\n",
    "plt.hist(arr, bins=100)\n",
    "plt.show()"
   ]
  },
  {
   "cell_type": "code",
   "execution_count": 63,
   "id": "9382f3cb",
   "metadata": {},
   "outputs": [
    {
     "name": "stdout",
     "output_type": "stream",
     "text": [
      "[2 2 1 3 1 4 3 1 4 3]\n",
      "[[4 1 3 1]\n",
      " [1 3 4 3]\n",
      " [2 1 1 3]]\n"
     ]
    }
   ],
   "source": [
    "# np.random.randint()\n",
    "arr = np.random.randint(1, 5, 10) #low,high, size\n",
    "print(arr)\n",
    "\n",
    "arr = np.random.randint(1, 5, (3,4)) #low,high, size\n",
    "print(arr)"
   ]
  },
  {
   "cell_type": "code",
   "execution_count": 64,
   "id": "35970ade",
   "metadata": {},
   "outputs": [
    {
     "data": {
      "image/png": "[encoded data removed]",
      "text/plain": [
       "<Figure size 432x288 with 1 Axes>"
      ]
     },
     "metadata": {
      "needs_background": "light"
     },
     "output_type": "display_data"
    }
   ],
   "source": [
    "arr = np.random.randint(100,200,1000)\n",
    "plt.hist(arr, bins=100)\n",
    "plt.show()"
   ]
  },
  {
   "cell_type": "code",
   "execution_count": 65,
   "id": "eea1ea0b",
   "metadata": {},
   "outputs": [],
   "source": [
    "# rand(), randn(), randint()"
   ]
  },
  {
   "cell_type": "markdown",
   "id": "7acb7059",
   "metadata": {},
   "source": [
    "## 1-6. seed값을 통한 난수 생성 제어"
   ]
  },
  {
   "cell_type": "code",
   "execution_count": 66,
   "id": "b195fa6f",
   "metadata": {},
   "outputs": [
    {
     "name": "stdout",
     "output_type": "stream",
     "text": [
      "난수 발생 1 \n",
      " [0.99409319 0.68593539 0.90833928 0.72934677 0.70878461 0.56363348\n",
      " 0.0462951  0.38495801 0.483349   0.20690528]\n",
      "난수 발생 1 \n",
      " [0.32214515 0.43835971 0.32086229 0.33253272 0.78665924 0.89188764\n",
      " 0.90253349 0.22732322 0.50325063 0.57310936]\n"
     ]
    }
   ],
   "source": [
    "arr = np.random.rand(10)\n",
    "print(\"난수 발생 1 \\n\", arr)\n",
    "\n",
    "arr = np.random.rand(10)\n",
    "print(\"난수 발생 2 \\n\", arr)"
   ]
  },
  {
   "cell_type": "code",
   "execution_count": 71,
   "id": "8f854812",
   "metadata": {},
   "outputs": [
    {
     "name": "stdout",
     "output_type": "stream",
     "text": [
      "난수 발생 1 \n",
      " [4.17022005e-01 7.20324493e-01 1.14374817e-04 3.02332573e-01\n",
      " 1.46755891e-01 9.23385948e-02 1.86260211e-01 3.45560727e-01\n",
      " 3.96767474e-01 5.38816734e-01]\n",
      "난수 발생 2 \n",
      " [4.17022005e-01 7.20324493e-01 1.14374817e-04 3.02332573e-01\n",
      " 1.46755891e-01 9.23385948e-02 1.86260211e-01 3.45560727e-01\n",
      " 3.96767474e-01 5.38816734e-01]\n"
     ]
    }
   ],
   "source": [
    "np.random.seed(1)\n",
    "arr = np.random.rand(10)\n",
    "print(\"난수 발생 1 \\n\", arr)\n",
    "\n",
    "np.random.seed(1)\n",
    "arr = np.random.rand(10)\n",
    "print(\"난수 발생 2 \\n\", arr)"
   ]
  },
  {
   "cell_type": "markdown",
   "id": "ced5b94c",
   "metadata": {},
   "source": [
    "# Section 2. N차원 배열의 인덱싱"
   ]
  },
  {
   "cell_type": "markdown",
   "id": "6420e387",
   "metadata": {},
   "source": [
    "## 2-1. 배열의 index 접근하기"
   ]
  },
  {
   "cell_type": "code",
   "execution_count": null,
   "id": "9359e1a2",
   "metadata": {},
   "outputs": [],
   "source": []
  }
 ],
 "metadata": {
  "kernelspec": {
   "display_name": "Python 3 (ipykernel)",
   "language": "python",
   "name": "python3"
  },
  "language_info": {
   "codemirror_mode": {
    "name": "ipython",
    "version": 3
   },
   "file_extension": ".py",
   "mimetype": "text/x-python",
   "name": "python",
   "nbconvert_exporter": "python",
   "pygments_lexer": "ipython3",
   "version": "3.9.7"
  }
 },
 "nbformat": 4,
 "nbformat_minor": 5
}
